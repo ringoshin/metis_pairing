{
 "cells": [
  {
   "cell_type": "code",
   "execution_count": 50,
   "metadata": {},
   "outputs": [],
   "source": [
    "import sys\n",
    "from datetime import datetime\n",
    "import re\n",
    "from bs4 import BeautifulSoup"
   ]
  },
  {
   "cell_type": "markdown",
   "metadata": {},
   "source": [
    "## Things to do before you can use this app:\n",
    "    1. Update <who_am_i> to your own name\n",
    "    2. Update <readme_md_doc> to where your copy is\n",
    "    3. If \"Pairing_list_everyday.txt\" is not in same folder as this app, update <Pairing_List> to include full path to the file"
   ]
  },
  {
   "cell_type": "code",
   "execution_count": 51,
   "metadata": {},
   "outputs": [],
   "source": [
    "# Update who_am_i to your own name as listed in Slack's Pairing List\n",
    "who_am_i = 'Fan Yeng Loon'\n",
    "\n",
    "# Update readme_md_loc to where your local SGP19_DSO's readme.md is located\n",
    "readme_md_loc = '/home/ringoshin/Projects/z - learning/0 - Kaplan/SGP19_DS0/readme.md'\n",
    "\n",
    "# Location of local copy of 'Pairing_list_everyday.txt' from Slack channel\n",
    "Pairing_List = 'Pairing_list_everyday.txt'"
   ]
  },
  {
   "cell_type": "code",
   "execution_count": 52,
   "metadata": {},
   "outputs": [],
   "source": [
    "# First and last day of our Metis/Kaplan bootcamp\n",
    "first_day = datetime.strptime('8 Jul 2019', '%d %b %Y')   # W1D1\n",
    "last_day = datetime.strptime('27 Sep 2019', '%d %b %Y')   # W12D5"
   ]
  },
  {
   "cell_type": "code",
   "execution_count": 53,
   "metadata": {},
   "outputs": [],
   "source": [
    "def Str_to_TupleList(pair_names_str):\n",
    "    \"\"\" Convert list of paired names into list of tuples\n",
    "    \"\"\"\n",
    "    pattern = r\"\\'([a-zA-Z ]+)\\'\"\n",
    "    temp_list_iter = iter(re.findall(pattern, pair_names_str))\n",
    "    return [(name, next(temp_list_iter)) for name in temp_list_iter]"
   ]
  },
  {
   "cell_type": "code",
   "execution_count": 54,
   "metadata": {},
   "outputs": [],
   "source": [
    "def Load_Pairing_List(fileName):\n",
    "    \"\"\" Load local copy of daily pairing list from Slack\n",
    "    \"\"\"\n",
    "    with open(fileName) as f:\n",
    "        content = f.readlines()\n",
    "    content_iter = iter(content)\n",
    "    return {key.strip(' \\n') : Str_to_TupleList(next(content_iter).strip(' \\n')) \\\n",
    "                    for key in content_iter}"
   ]
  },
  {
   "cell_type": "code",
   "execution_count": 55,
   "metadata": {},
   "outputs": [],
   "source": [
    "def Get_Week_and_Day_Number(check_date):\n",
    "    \"\"\" Find out which week and day number where W1D1 repsents 1st week and day\n",
    "    Returns week number and day number\n",
    "    \"\"\"\n",
    "    global first_day, last_day\n",
    "    if check_date < first_day or check_date > last_day:\n",
    "        raise ValueError('Date is not within course schedule.')\n",
    "        \n",
    "    days_diff = check_date - first_day\n",
    "    week_num = days_diff.days // 7 + 1\n",
    "    day_num = days_diff.days % 7 + 1\n",
    "    return week_num, day_num"
   ]
  },
  {
   "cell_type": "code",
   "execution_count": 56,
   "metadata": {},
   "outputs": [],
   "source": [
    "def Get_Task_per_Date(wnum, dnum):\n",
    "    \"\"\" Locate pair assignment for Week <wnum> Day <dnum> from local Git\n",
    "    copy of https://github.com/thisismetis/SGP19_DS0/blob/master/readme.md\n",
    "    \"\"\"\n",
    "    #url = 'https://github.com/thisismetis/SGP19_DS0/blob/master/readme.md'\n",
    "    global readme_md_loc   # Location of local readme.md, defined at top of app\n",
    "    #response = requests.get(url)\n",
    "    #print(response.status_code)\n",
    "\n",
    "    #page = response.text\n",
    "    page = open(readme_md_loc)\n",
    "    soup = BeautifulSoup(page.read(), 'lxml')\n",
    "\n",
    "    table_rows = soup.find_all('tr')\n",
    "    if wnum <= len(table_rows)+1:\n",
    "        table_cells = table_rows[wnum].find_all('td')\n",
    "        if dnum <= len(table_cells)+1:\n",
    "            if 'pairs' in table_cells[dnum-1].find('a')['href']:\n",
    "                pair_text = table_cells[dnum-1].find('a').text\n",
    "                return True, pair_text.replace('•','').replace(\"Pair:\",'').strip()\n",
    "    return False, None"
   ]
  },
  {
   "cell_type": "code",
   "execution_count": 57,
   "metadata": {},
   "outputs": [],
   "source": [
    "def Get_Paired_and_Dummy(week, day, pairing_list):\n",
    "    \"\"\" Find out who is pairing with <who_am_i> from <pairing list> on this day:\n",
    "        W<week> D<day>\n",
    "        Also find out who is the assigned dummy\n",
    "    \"\"\"\n",
    "    global who_am_i\n",
    "    \n",
    "    weekday = 'W{}D{}'.format(week,day)\n",
    "    week_day_pairs = pairing_list[weekday]\n",
    "    dummy=''\n",
    "\n",
    "    # Locate the dummy\n",
    "    for name1, name2 in week_day_pairs:\n",
    "        if name2=='dummy':\n",
    "            dummy = name1\n",
    "            break\n",
    "        elif name1=='dummy':\n",
    "            dummy = name2\n",
    "            break\n",
    "    \n",
    "    if dummy==who_am_i:\n",
    "        return who_am_i, dummy\n",
    "    \n",
    "    for name1, name2 in week_day_pairs:\n",
    "        if name1==who_am_i:\n",
    "            return name2, dummy\n",
    "        elif name2==who_am_i:\n",
    "            return name1, dummy\n",
    "        \n",
    "    print()\n",
    "    raise ValueError(f'{who_am_i} cannot be found!')"
   ]
  },
  {
   "cell_type": "code",
   "execution_count": 58,
   "metadata": {},
   "outputs": [],
   "source": [
    "weeknum, daynum = Get_Week_and_Day_Number(datetime.today())\n",
    "pairing_list = Load_Pairing_List(Pairing_List)"
   ]
  },
  {
   "cell_type": "code",
   "execution_count": 59,
   "metadata": {},
   "outputs": [
    {
     "name": "stdout",
     "output_type": "stream",
     "text": [
      "The agony for today (W7D3) is decorate.\n",
      "Oops, you are the dummy!\n",
      "\n",
      "The next agony on W7D4 will be grid.\n",
      "You are destined to suffer with Heng Hwee Yee. Shi He Ping is doomed to cry alone.\n"
     ]
    }
   ],
   "source": [
    "if daynum <= 5:\n",
    "    found, assignment = Get_Task_per_Date(weeknum, daynum)\n",
    "    if not found:\n",
    "        print(\"No pair assignment found for W%dD%d.\" %(weeknum, daynum))\n",
    "        print(\"Please ensure local Git copy has been updated.\")\n",
    "        print()\n",
    "    else:            \n",
    "        paired_assignee, dummy = Get_Paired_and_Dummy(weeknum, daynum, pairing_list)\n",
    "        print(\"The agony for today (W%dD%d) is %s.\" %(weeknum, daynum, assignment))\n",
    "        if dummy==who_am_i:\n",
    "            print(\"Oops, you are the dummy!\")\n",
    "        else:\n",
    "            print(\"You are sharing your pain with %s. Sadly, nobody wants %s.\" %(paired_assignee, dummy))\n",
    "        print()\n",
    "\n",
    "if not (weeknum==12 and daynum==5):\n",
    "    daynum += 1\n",
    "    if daynum > 5:\n",
    "        weeknum += 1\n",
    "        daynum = 1\n",
    "    found, assignment = Get_Task_per_Date(weeknum, daynum)\n",
    "    if not found:\n",
    "        print(\"No pair assignment found for W%dD%d.\" %(weeknum, daynum))\n",
    "        print(\"Please ensure local Git copy has been updated.\")\n",
    "    else:\n",
    "        paired_assignee, dummy = Get_Paired_and_Dummy(weeknum, daynum, pairing_list)\n",
    "        print(\"The next agony on W%dD%d will be %s.\" %(weeknum, daynum, assignment))\n",
    "        if dummy==who_am_i:\n",
    "            print(\"You are the next dummy!\")\n",
    "        else:\n",
    "            print(\"You are destined to suffer with %s. %s is doomed to cry alone.\" %(paired_assignee, dummy))"
   ]
  },
  {
   "cell_type": "code",
   "execution_count": null,
   "metadata": {},
   "outputs": [],
   "source": []
  }
 ],
 "metadata": {
  "kernelspec": {
   "display_name": "metis",
   "language": "python",
   "name": "metis"
  },
  "language_info": {
   "codemirror_mode": {
    "name": "ipython",
    "version": 3
   },
   "file_extension": ".py",
   "mimetype": "text/x-python",
   "name": "python",
   "nbconvert_exporter": "python",
   "pygments_lexer": "ipython3",
   "version": "3.7.3"
  }
 },
 "nbformat": 4,
 "nbformat_minor": 2
}
